{
 "cells": [
  {
   "cell_type": "markdown",
   "id": "764cadb3-65e1-4eb1-9205-5463498ed995",
   "metadata": {},
   "source": [
    "# A comparative genomic analysis of Pseudomonas aeruginosa strains isolated from oil-contaminates environments in Peru (Script Report)"
   ]
  },
  {
   "cell_type": "markdown",
   "id": "81e4d691-9800-48fa-8162-8c730d8e4a61",
   "metadata": {},
   "source": [
    "### Notebook by: reymonera (Camila Castillo-Vilcahuaman)"
   ]
  },
  {
   "cell_type": "markdown",
   "id": "1f0ad926-898c-4dc9-b03d-78fe1832369b",
   "metadata": {},
   "source": [
    "This is a notebook that hosts the logic behind the bioinformatics workflow used during the \"A comparative genomic analysis of Pseudomonas aeruginosa strains isolated from oil-contaminated environments in Peru\". The aim of this notebook is to make our code more reproducible. It should be noted that this notebook begins after the assembly of the genomes used in this paper.\n",
    "\n",
    "First, here's a test on how bash scripting is working in this environment."
   ]
  },
  {
   "cell_type": "code",
   "execution_count": 1,
   "id": "14ebbdc7-f79d-4759-8141-400798e9554b",
   "metadata": {},
   "outputs": [
    {
     "name": "stdout",
     "output_type": "stream",
     "text": [
      "LICENSE\n",
      "Pseudomonas_notebook.ipynb\n",
      "README.md\n"
     ]
    }
   ],
   "source": [
    "%%sh\n",
    "ls"
   ]
  },
  {
   "cell_type": "markdown",
   "id": "9d5bddb9-e568-4fcb-b6d8-f6de91027caf",
   "metadata": {},
   "source": [
    "Now, here we will activate all environments used on this project. All environments were managed using `conda` and I normally manage each program in its own environment. If you use any of these environments in other ways, then you should change the code here."
   ]
  },
  {
   "cell_type": "code",
   "execution_count": 12,
   "id": "28542879-e744-4d91-9b36-912043d895e7",
   "metadata": {},
   "outputs": [
    {
     "name": "stdout",
     "output_type": "stream",
     "text": [
      "/home/marlen/Documentos/program/pseudomonas_notebook\n",
      "Requirement already satisfied: rpy2 in /home/marlen/miniforge-pypy3/envs/jupyter/lib/python3.12/site-packages (3.5.16)\n",
      "Requirement already satisfied: cffi>=1.15.1 in /home/marlen/miniforge-pypy3/envs/jupyter/lib/python3.12/site-packages (from rpy2) (1.17.1)\n",
      "Requirement already satisfied: jinja2 in /home/marlen/miniforge-pypy3/envs/jupyter/lib/python3.12/site-packages (from rpy2) (3.1.4)\n",
      "Requirement already satisfied: tzlocal in /home/marlen/miniforge-pypy3/envs/jupyter/lib/python3.12/site-packages (from rpy2) (5.2)\n",
      "Requirement already satisfied: pycparser in /home/marlen/miniforge-pypy3/envs/jupyter/lib/python3.12/site-packages (from cffi>=1.15.1->rpy2) (2.22)\n",
      "Requirement already satisfied: MarkupSafe>=2.0 in /home/marlen/miniforge-pypy3/envs/jupyter/lib/python3.12/site-packages (from jinja2->rpy2) (2.1.5)\n"
     ]
    }
   ],
   "source": [
    "%%sh\n",
    "pwd\n",
    "pip install rpy2"
   ]
  },
  {
   "cell_type": "code",
   "execution_count": 1,
   "id": "4d7d8452-2dfc-4e1b-b8c0-e18fb4ce650f",
   "metadata": {},
   "outputs": [
    {
     "name": "stderr",
     "output_type": "stream",
     "text": [
      "/home/marlen/miniforge-pypy3/envs/jupyter/lib/python3.12/site-packages/rpy2/ipython/rmagic.py:85: UserWarning: The Python package `pandas` is strongly recommended when using `rpy2.ipython`. Unfortunately it could not be loaded, as we did not manage to load `numpy` in the first place (error: No module named 'numpy').\n",
      "  warnings.warn('The Python package `pandas` is strongly '\n"
     ]
    }
   ],
   "source": [
    "#Load the rpy2 feature so that you can execute R code during this notebook.\n",
    "%load_ext rpy2.ipython"
   ]
  },
  {
   "cell_type": "markdown",
   "id": "50a667a0-0507-4df9-b03d-dcf2a604ab3e",
   "metadata": {},
   "source": [
    "## ANI"
   ]
  },
  {
   "cell_type": "markdown",
   "id": "10cf21b2-9737-4d68-9189-e3a759b3e03d",
   "metadata": {},
   "source": [
    "ANI was executed using `PyAni`, activated through `conda`. A directory was created using the available genomes in public repositories plus the strain sequenced for this study. This directory was used as a database."
   ]
  },
  {
   "cell_type": "code",
   "execution_count": 10,
   "id": "21332e62-c0b6-4919-9938-81d0b4d4ec76",
   "metadata": {},
   "outputs": [
    {
     "name": "stdout",
     "output_type": "stream",
     "text": [
      "Requirement already satisfied: biopython in /home/marlen/miniforge-pypy3/envs/jupyter/lib/python3.12/site-packages (1.84)\n",
      "Requirement already satisfied: numpy in /home/marlen/miniforge-pypy3/envs/jupyter/lib/python3.12/site-packages (from biopython) (2.1.1)\n",
      "Error al descargar GCA_024706435: HTTP Error 400: Bad Request\n",
      "Descarga completada para GCA_025210085\n",
      "Error al descargar GCA_025209735: HTTP Error 400: Bad Request\n",
      "Descarga completada para GCA_025210135\n",
      "Descarga completada para GCA_025209925\n",
      "Descarga completada para GCA_025380225\n",
      "Error al descargar GCA_000006765: HTTP Error 400: Bad Request\n",
      "Descarga completada para CP046602\n",
      "Descarga completada para GCA_001516365\n",
      "CP046602.fna\t   GCA_025209925.fna  GCA_025210135.fna\n",
      "GCA_001516365.fna  GCA_025210085.fna  GCA_025380225.fna\n"
     ]
    }
   ],
   "source": [
    "!pip install biopython\n",
    "\n",
    "from Bio import Entrez\n",
    "\n",
    "# Lista de códigos de ensamblaje del NCBI\n",
    "assemblies = [\n",
    "    \"GCA_024706435\",\n",
    "    \"GCA_025210085\",\n",
    "    \"GCA_025209735\",\n",
    "    \"GCA_025210135\",\n",
    "    \"GCA_025209925\",\n",
    "    \"GCA_025380225\",\n",
    "    \"GCA_000006765\",\n",
    "    \"CP046602\",\n",
    "    \"GCA_001516365\",\n",
    "    \n",
    "]\n",
    "\n",
    "# Función para descargar FASTA usando Biopython\n",
    "def download_fasta(assembly):\n",
    "    try:\n",
    "        # Realizar la búsqueda en NCBI\n",
    "        search_handle = Entrez.esearch(db=\"assembly\", term=assembly)\n",
    "        record = Entrez.read(search_handle)\n",
    "        search_handle.close()\n",
    "        \n",
    "        # Obtener el ID de la secuencia\n",
    "        assembly_id = record[\"IdList\"][0]\n",
    "        \n",
    "        # Obtener la secuencia en formato FASTA\n",
    "        fetch_handle = Entrez.efetch(db=\"nuccore\", id=assembly_id, rettype=\"fasta\", retmode=\"text\")\n",
    "        fasta_data = fetch_handle.read()\n",
    "        fetch_handle.close()\n",
    "        \n",
    "        # Guardar el archivo FASTA\n",
    "        with open(f\"{assembly}.fna\", \"w\") as fasta_file:\n",
    "            fasta_file.write(fasta_data)\n",
    "        \n",
    "        print(f\"Descarga completada para {assembly}\")\n",
    "        \n",
    "    except Exception as e:\n",
    "        print(f\"Error al descargar {assembly}: {e}\")\n",
    "\n",
    "# Descargar todos los ensamblajes de la lista\n",
    "for assembly in assemblies:\n",
    "    download_fasta(assembly)\n",
    "\n",
    "!mkdir db_pseudomonas\n",
    "!mv *.fna db_pseudomonas/\n",
    "!ls db_pseudomonas/"
   ]
  },
  {
   "cell_type": "code",
   "execution_count": 13,
   "id": "aba77bfa-5801-40dd-bb9a-46be350360d7",
   "metadata": {},
   "outputs": [
    {
     "name": "stdout",
     "output_type": "stream",
     "text": [
      "no change     /home/marlen/miniforge-pypy3/condabin/conda\n",
      "no change     /home/marlen/miniforge-pypy3/bin/conda\n",
      "no change     /home/marlen/miniforge-pypy3/bin/conda-env\n",
      "no change     /home/marlen/miniforge-pypy3/bin/activate\n",
      "no change     /home/marlen/miniforge-pypy3/bin/deactivate\n",
      "no change     /home/marlen/miniforge-pypy3/etc/profile.d/conda.sh\n",
      "no change     /home/marlen/miniforge-pypy3/etc/fish/conf.d/conda.fish\n",
      "no change     /home/marlen/miniforge-pypy3/shell/condabin/Conda.psm1\n",
      "no change     /home/marlen/miniforge-pypy3/shell/condabin/conda-hook.ps1\n",
      "no change     /home/marlen/miniforge-pypy3/lib/python3.9/site-packages/xontrib/conda.xsh\n",
      "no change     /home/marlen/miniforge-pypy3/etc/profile.d/conda.csh\n",
      "no change     /home/marlen/.bashrc\n",
      "No action taken.\n",
      "/bin/bash: línea 1: activate: No existe el archivo o el directorio\n",
      "\n",
      "CondaError: Run 'conda init' before 'conda activate'\n",
      "\n",
      "/bin/bash: línea 1: average_nucleotide_identity.py: orden no encontrada\n",
      "/bin/bash: línea 1: average_nucleotide_identity.py: orden no encontrada\n"
     ]
    }
   ],
   "source": [
    "!average_nucleotide_identity.py -i db_pseudomonas -o ANIm_output -m ANIm -g\n",
    "!average_nucleotide_identity.py -i db_pseudomonas -o ANIb_output -m ANIb -g"
   ]
  },
  {
   "cell_type": "markdown",
   "id": "0272b607-8424-4f03-90cf-3655ba46ddcc",
   "metadata": {},
   "source": [
    "After this, using the `pheatmap` library in R is a requirement to get the heatmap that was used in this paper."
   ]
  },
  {
   "cell_type": "code",
   "execution_count": 2,
   "id": "d008cf28-1136-4128-9604-d3affc4c2af4",
   "metadata": {},
   "outputs": [
    {
     "name": "stdout",
     "output_type": "stream",
     "text": [
      "[1] \"/home/marlen/Documentos/program/pseudomonas_notebook\"\n"
     ]
    }
   ],
   "source": [
    "%%R\n",
    "getwd()"
   ]
  },
  {
   "cell_type": "code",
   "execution_count": null,
   "id": "e9758d08-5e70-4912-b8dc-81e4bbb11726",
   "metadata": {},
   "outputs": [],
   "source": [
    "%%R\n",
    "#Se instala\n",
    "install.packages(\"pheatmap\")\n",
    "\n",
    "#Se ejecuta la librerìa\n",
    "library(pheatmap)\n",
    "\n",
    "#Se importa matriz desde pyAni\n",
    "matrix_ani <- read.csv('ANIb_output/ANIb_percentage_identity.tab', row.names=1, sep=\"\\t\")\n",
    "\n",
    "#Se traslada a pheatmap\n",
    "pheatmap(matrix_ani)\n",
    "\n",
    "#Se produce heatmap colorblind-friendly\n",
    "pheatmap(matrix_ani, color = hcl.colors(50, \"Blue-Red 3\"))"
   ]
  },
  {
   "cell_type": "code",
   "execution_count": null,
   "id": "eeeb0f48-0951-4913-89e4-fbdfa986791f",
   "metadata": {},
   "outputs": [],
   "source": []
  }
 ],
 "metadata": {
  "kernelspec": {
   "display_name": "Python 3 (ipykernel)",
   "language": "python",
   "name": "python3"
  },
  "language_info": {
   "codemirror_mode": {
    "name": "ipython",
    "version": 3
   },
   "file_extension": ".py",
   "mimetype": "text/x-python",
   "name": "python",
   "nbconvert_exporter": "python",
   "pygments_lexer": "ipython3",
   "version": "3.12.5"
  }
 },
 "nbformat": 4,
 "nbformat_minor": 5
}
