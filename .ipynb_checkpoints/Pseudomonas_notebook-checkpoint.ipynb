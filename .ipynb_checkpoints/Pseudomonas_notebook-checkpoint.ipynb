{
 "cells": [
  {
   "cell_type": "markdown",
   "id": "764cadb3-65e1-4eb1-9205-5463498ed995",
   "metadata": {},
   "source": [
    "# A comparative genomic analysis of Pseudomonas aeruginosa strains isolated from oil-contaminates environments in Peru (Script Report)"
   ]
  },
  {
   "cell_type": "markdown",
   "id": "81e4d691-9800-48fa-8162-8c730d8e4a61",
   "metadata": {},
   "source": [
    "### Notebook by: reymonera (Camila Castillo-Vilcahuaman)"
   ]
  },
  {
   "cell_type": "markdown",
   "id": "1f0ad926-898c-4dc9-b03d-78fe1832369b",
   "metadata": {},
   "source": [
    "This is a notebook that hosts the logic behind the bioinformatics workflow used during the \"A comparative genomic analysis of Pseudomonas aeruginosa strains isolated from oil-contaminated environments in Peru\". The idea of this notebook is to make our code more reproducible."
   ]
  },
  {
   "cell_type": "code",
   "execution_count": 1,
   "id": "14ebbdc7-f79d-4759-8141-400798e9554b",
   "metadata": {},
   "outputs": [
    {
     "name": "stdout",
     "output_type": "stream",
     "text": [
      "LICENSE\n",
      "Pseudomonas_notebook.ipynb\n",
      "README.md\n"
     ]
    }
   ],
   "source": [
    "%%sh\n",
    "ls"
   ]
  },
  {
   "cell_type": "code",
   "execution_count": null,
   "id": "5b9bbf1c-77ad-40e1-a9d4-f8825843cce8",
   "metadata": {},
   "outputs": [],
   "source": []
  }
 ],
 "metadata": {
  "kernelspec": {
   "display_name": "Python 3 (ipykernel)",
   "language": "python",
   "name": "python3"
  },
  "language_info": {
   "codemirror_mode": {
    "name": "ipython",
    "version": 3
   },
   "file_extension": ".py",
   "mimetype": "text/x-python",
   "name": "python",
   "nbconvert_exporter": "python",
   "pygments_lexer": "ipython3",
   "version": "3.12.5"
  }
 },
 "nbformat": 4,
 "nbformat_minor": 5
}
