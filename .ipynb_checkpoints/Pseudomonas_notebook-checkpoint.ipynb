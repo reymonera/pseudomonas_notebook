{
 "cells": [
  {
   "cell_type": "markdown",
   "id": "764cadb3-65e1-4eb1-9205-5463498ed995",
   "metadata": {},
   "source": [
    "# A comparative genomic analysis of Pseudomonas aeruginosa strains isolated from oil-contaminates environments in Peru (Script Report)"
   ]
  },
  {
   "cell_type": "markdown",
   "id": "81e4d691-9800-48fa-8162-8c730d8e4a61",
   "metadata": {},
   "source": [
    "### Notebook by: reymonera (Camila Castillo-Vilcahuaman)"
   ]
  },
  {
   "cell_type": "markdown",
   "id": "1f0ad926-898c-4dc9-b03d-78fe1832369b",
   "metadata": {},
   "source": [
    "This is a notebook that hosts the logic behind the bioinformatics workflow used during the \"A comparative genomic analysis of Pseudomonas aeruginosa strains isolated from oil-contaminated environments in Peru\". The aim of this notebook is to make our code more reproducible. It should be noted that this notebook begins after the assembly of the genomes used in this paper.\n",
    "\n",
    "First, here's a test on how bash scripting is working in this environment."
   ]
  },
  {
   "cell_type": "code",
   "execution_count": 2,
   "id": "14ebbdc7-f79d-4759-8141-400798e9554b",
   "metadata": {},
   "outputs": [
    {
     "name": "stdout",
     "output_type": "stream",
     "text": [
      "LICENSE\n",
      "Pseudomonas_notebook.ipynb\n",
      "README.md\n",
      "db_pseudomonas\n",
      "pseudomonas-environment.yaml\n"
     ]
    }
   ],
   "source": [
    "%%sh\n",
    "ls"
   ]
  },
  {
   "cell_type": "markdown",
   "id": "71f4a1ca-aa88-499f-b46b-fe4248fd1020",
   "metadata": {},
   "source": [
    "Now, we will require to have a kernel with the environment built for this notebook. For this, we will execute the following commands in the terminal:\n",
    "```\n",
    "conda env create -f pseudomonas-notebook.yaml\n",
    "python -m ipykernel install --user --name=pseudomonas_notebook\n",
    "jupyter-notebook\n",
    "```\n",
    "Please, make sure that you select or change the default kernel with the `pseudomonas_notebook` one."
   ]
  },
  {
   "cell_type": "markdown",
   "id": "9d5bddb9-e568-4fcb-b6d8-f6de91027caf",
   "metadata": {},
   "source": [
    "Now, here we will activate all environments used on this project. All environments were managed using `conda` and I normally manage each program in its own environment. If you use any of these environments in other ways, then you should change the code here."
   ]
  },
  {
   "cell_type": "code",
   "execution_count": 3,
   "id": "28542879-e744-4d91-9b36-912043d895e7",
   "metadata": {},
   "outputs": [
    {
     "name": "stdout",
     "output_type": "stream",
     "text": [
      "/home/marlen/gitrepos/pseudomonas_notebook\n",
      "Collecting rpy2\n",
      "  Using cached rpy2-3.5.16.tar.gz (220 kB)\n",
      "  Installing build dependencies: started\n",
      "  Installing build dependencies: finished with status 'done'\n",
      "  Getting requirements to build wheel: started\n",
      "  Getting requirements to build wheel: finished with status 'done'\n",
      "  Preparing metadata (pyproject.toml): started\n",
      "  Preparing metadata (pyproject.toml): finished with status 'done'\n",
      "Requirement already satisfied: cffi>=1.15.1 in /home/marlen/miniforge3/envs/pseudomonas-environment/lib/python3.9/site-packages (from rpy2) (1.17.1)\n",
      "Requirement already satisfied: jinja2 in /home/marlen/miniforge3/envs/pseudomonas-environment/lib/python3.9/site-packages (from rpy2) (3.1.4)\n",
      "Collecting tzlocal (from rpy2)\n",
      "  Using cached tzlocal-5.2-py3-none-any.whl.metadata (7.8 kB)\n",
      "Requirement already satisfied: pycparser in /home/marlen/miniforge3/envs/pseudomonas-environment/lib/python3.9/site-packages (from cffi>=1.15.1->rpy2) (2.22)\n",
      "Requirement already satisfied: MarkupSafe>=2.0 in /home/marlen/miniforge3/envs/pseudomonas-environment/lib/python3.9/site-packages (from jinja2->rpy2) (2.1.5)\n",
      "Using cached tzlocal-5.2-py3-none-any.whl (17 kB)\n",
      "Building wheels for collected packages: rpy2\n",
      "  Building wheel for rpy2 (pyproject.toml): started\n",
      "  Building wheel for rpy2 (pyproject.toml): finished with status 'done'\n",
      "  Created wheel for rpy2: filename=rpy2-3.5.16-cp39-cp39-linux_x86_64.whl size=262919 sha256=aec088f98cc86b376925b4533e01cf6d74c5ede2b6d16021aac06e2a55cbee85\n",
      "  Stored in directory: /home/marlen/.cache/pip/wheels/61/18/0f/262eda2ac102e9688718abf0da99074f0a7f04cc783a03b991\n",
      "Successfully built rpy2\n",
      "Installing collected packages: tzlocal, rpy2\n",
      "Successfully installed rpy2-3.5.16 tzlocal-5.2\n"
     ]
    }
   ],
   "source": [
    "%%sh\n",
    "pwd\n",
    "pip install rpy2"
   ]
  },
  {
   "cell_type": "code",
   "execution_count": 4,
   "id": "0e7f993f-6006-4dc6-9b5b-1555484b7936",
   "metadata": {},
   "outputs": [
    {
     "name": "stdout",
     "output_type": "stream",
     "text": [
      "/home/marlen/miniforge3/envs/pseudomonas-environment/bin/python\n"
     ]
    }
   ],
   "source": [
    "# Check if path to packages is here, if not, configure it in this cell\n",
    "import sys\n",
    "print(sys.executable)\n",
    "sys.path.append('/home/marlen/miniforge3/lib/python3.10/site-packages') #('path/to/site/packages')\n",
    "import sys"
   ]
  },
  {
   "cell_type": "code",
   "execution_count": 5,
   "id": "c0ba0e93-899b-4b01-b04e-e3daa508beb7",
   "metadata": {},
   "outputs": [],
   "source": [
    "#Load the rpy2 feature so that you can execute R code during this notebook.\n",
    "%load_ext rpy2.ipython"
   ]
  },
  {
   "cell_type": "markdown",
   "id": "50a667a0-0507-4df9-b03d-dcf2a604ab3e",
   "metadata": {},
   "source": [
    "## ANI"
   ]
  },
  {
   "cell_type": "markdown",
   "id": "10cf21b2-9737-4d68-9189-e3a759b3e03d",
   "metadata": {},
   "source": [
    "ANI was executed using `PyAni`, activated through `conda`. A directory was created using the available genomes in public repositories plus the strain sequenced for this study. This directory was used as a database."
   ]
  },
  {
   "cell_type": "code",
   "execution_count": 6,
   "id": "21332e62-c0b6-4919-9938-81d0b4d4ec76",
   "metadata": {},
   "outputs": [
    {
     "name": "stdout",
     "output_type": "stream",
     "text": [
      "Requirement already satisfied: biopython in /home/marlen/miniforge3/envs/pseudomonas-environment/lib/python3.9/site-packages (1.78)\n",
      "Requirement already satisfied: numpy in /home/marlen/miniforge3/envs/pseudomonas-environment/lib/python3.9/site-packages (from biopython) (1.26.4)\n"
     ]
    },
    {
     "name": "stderr",
     "output_type": "stream",
     "text": [
      "/home/marlen/miniforge3/envs/pseudomonas-environment/lib/python3.9/site-packages/Bio/Entrez/__init__.py:658: UserWarning: \n",
      "Email address is not specified.\n",
      "\n",
      "To make use of NCBI's E-utilities, NCBI requires you to specify your\n",
      "email address with each request.  As an example, if your email address\n",
      "is A.N.Other@example.com, you can specify it as follows:\n",
      "   from Bio import Entrez\n",
      "   Entrez.email = 'A.N.Other@example.com'\n",
      "In case of excessive usage of the E-utilities, NCBI will attempt to contact\n",
      "a user at the email address provided before blocking access to the\n",
      "E-utilities.\n",
      "  warnings.warn(\n"
     ]
    },
    {
     "name": "stdout",
     "output_type": "stream",
     "text": [
      "Error al descargar GCA_024706435: HTTP Error 400: Bad Request\n",
      "Descarga completada para GCA_025210085\n",
      "Error al descargar GCA_025209735: HTTP Error 400: Bad Request\n",
      "Descarga completada para GCA_025210135\n",
      "Descarga completada para GCA_025209925\n",
      "Descarga completada para GCA_025380225\n",
      "Error al descargar GCA_000006765: HTTP Error 400: Bad Request\n",
      "Descarga completada para CP046602\n",
      "Descarga completada para GCA_001516365\n",
      "mkdir: cannot create directory ‘db_pseudomonas’: File exists\n",
      "CP046602.fna\t   GCA_025209925.fna  GCA_025210135.fna\n",
      "GCA_001516365.fna  GCA_025210085.fna  GCA_025380225.fna\n"
     ]
    }
   ],
   "source": [
    "!pip install biopython\n",
    "\n",
    "from Bio import Entrez\n",
    "\n",
    "# Enter mail if necessary\n",
    "#Entrez.email = 'A.N.Other@example.com'\n",
    "\n",
    "# List of codes from NCBI\n",
    "assemblies = [\n",
    "    \"GCA_024706435\",\n",
    "    \"GCA_025210085\",\n",
    "    \"GCA_025209735\",\n",
    "    \"GCA_025210135\",\n",
    "    \"GCA_025209925\",\n",
    "    \"GCA_025380225\",\n",
    "    \"GCA_000006765\",\n",
    "    \"GCA_001516365\",\n",
    "    \n",
    "]\n",
    "\n",
    "# Function that downloads Fastas hosted in the public repository\n",
    "def download_fasta(assembly):\n",
    "    try:\n",
    "        # Realizar la búsqueda en NCBI\n",
    "        search_handle = Entrez.esearch(db=\"assembly\", term=assembly)\n",
    "        record = Entrez.read(search_handle)\n",
    "        search_handle.close()\n",
    "        \n",
    "        # Obtener el ID de la secuencia\n",
    "        assembly_id = record[\"IdList\"][0]\n",
    "        \n",
    "        # Obtener la secuencia en formato FASTA\n",
    "        fetch_handle = Entrez.efetch(db=\"nuccore\", id=assembly_id, rettype=\"fasta\", retmode=\"text\")\n",
    "        fasta_data = fetch_handle.read()\n",
    "        fetch_handle.close()\n",
    "        \n",
    "        # Guardar el archivo FASTA\n",
    "        with open(f\"{assembly}.fna\", \"w\") as fasta_file:\n",
    "            fasta_file.write(fasta_data)\n",
    "        \n",
    "        print(f\"Descarga completada para {assembly}\")\n",
    "        \n",
    "    except Exception as e:\n",
    "        print(f\"Error al descargar {assembly}: {e}\")\n",
    "\n",
    "# Download all assemblies from list\n",
    "for assembly in assemblies:\n",
    "    download_fasta(assembly)\n",
    "\n",
    "!mkdir db_pseudomonas\n",
    "!mv *.fna db_pseudomonas/\n",
    "!ls db_pseudomonas/"
   ]
  },
  {
   "cell_type": "code",
   "execution_count": 7,
   "id": "25155c2d-68a1-4ab1-b448-2dbcca2f8316",
   "metadata": {},
   "outputs": [
    {
     "name": "stdout",
     "output_type": "stream",
     "text": [
      "no change     /home/marlen/miniforge3/condabin/conda\n",
      "no change     /home/marlen/miniforge3/bin/conda\n",
      "no change     /home/marlen/miniforge3/bin/conda-env\n",
      "no change     /home/marlen/miniforge3/bin/activate\n",
      "no change     /home/marlen/miniforge3/bin/deactivate\n",
      "no change     /home/marlen/miniforge3/etc/profile.d/conda.sh\n",
      "no change     /home/marlen/miniforge3/etc/fish/conf.d/conda.fish\n",
      "no change     /home/marlen/miniforge3/shell/condabin/Conda.psm1\n",
      "no change     /home/marlen/miniforge3/shell/condabin/conda-hook.ps1\n",
      "no change     /home/marlen/miniforge3/lib/python3.10/site-packages/xontrib/conda.xsh\n",
      "no change     /home/marlen/miniforge3/etc/profile.d/conda.csh\n",
      "no change     /home/marlen/.bashrc\n",
      "No action taken.\n",
      "\n",
      "CondaError: Run 'conda init' before 'conda activate'\n",
      "\n"
     ]
    }
   ],
   "source": [
    "#!conda env create -f pseudomonas-environment.yaml\n",
    "!conda init\n",
    "!conda activate pseudomonas-environment && python -m ipykernel install --user --name=pseudomonas-environment"
   ]
  },
  {
   "cell_type": "code",
   "execution_count": 20,
   "id": "ccad0410-444c-4ff0-9438-373af72c087d",
   "metadata": {},
   "outputs": [
    {
     "name": "stdout",
     "output_type": "stream",
     "text": [
      "ANIb_output  Pseudomonas_notebook.ipynb  pseudomonas-environment.yaml\n",
      "ANIm_output  README.md\n",
      "LICENSE      db_pseudomonas\n"
     ]
    }
   ],
   "source": [
    "!ls"
   ]
  },
  {
   "cell_type": "code",
   "execution_count": 28,
   "id": "aba77bfa-5801-40dd-bb9a-46be350360d7",
   "metadata": {},
   "outputs": [
    {
     "name": "stdout",
     "output_type": "stream",
     "text": [
      "Traceback (most recent call last):\n",
      "  File \"/home/marlen/miniforge3/envs/pseudomonas-environment/bin/average_nucleotide_identity.py\", line 10, in <module>\n",
      "    sys.exit(run_main())\n",
      "  File \"/home/marlen/miniforge3/envs/pseudomonas-environment/lib/python3.9/site-packages/pyani/scripts/average_nucleotide_identity.py\", line 998, in run_main\n",
      "    results = method_function(args, infiles, org_lengths)\n",
      "  File \"/home/marlen/miniforge3/envs/pseudomonas-environment/lib/python3.9/site-packages/pyani/scripts/average_nucleotide_identity.py\", line 559, in calculate_anim\n",
      "    results = anim.process_deltadir(deltadir, org_lengths, logger=logger)\n",
      "  File \"/home/marlen/miniforge3/envs/pseudomonas-environment/lib/python3.9/site-packages/pyani/anim.py\", line 480, in process_deltadir\n",
      "    ) = parse_delta(deltafile)\n",
      "  File \"/home/marlen/miniforge3/envs/pseudomonas-environment/lib/python3.9/site-packages/pyani/anim.py\", line 396, in parse_delta\n",
      "    avrg_ID = sum(weighted_identical_bases) / sum(aligned_bases)\n",
      "ZeroDivisionError: division by zero\n"
     ]
    }
   ],
   "source": [
    "!average_nucleotide_identity.py -i db_pseudomonas -o ANIm_output -m ANIm -g\n",
    "#!average_nucleotide_identity.py -i db_pseudomonas -o ANIb_output -m ANIb -g"
   ]
  },
  {
   "cell_type": "markdown",
   "id": "1bbc05d2-f4c0-4b69-a6e1-af9bac9ef096",
   "metadata": {},
   "source": [
    "After this, using the `pheatmap` library in R is a requirement to get the heatmap that was used in this paper."
   ]
  },
  {
   "cell_type": "code",
   "execution_count": 9,
   "id": "d008cf28-1136-4128-9604-d3affc4c2af4",
   "metadata": {},
   "outputs": [
    {
     "name": "stdout",
     "output_type": "stream",
     "text": [
      "[1] \"/home/marlen/gitrepos/pseudomonas_notebook\"\n"
     ]
    },
    {
     "data": {
      "text/plain": [
       "In addition: Warning message:\n",
       "In (function (package, help, pos = 2, lib.loc = NULL, character.only = FALSE,  :\n",
       "  libraries ‘/usr/local/lib/R/site-library’, ‘/usr/lib/R/site-library’ contain no packages\n"
      ]
     },
     "metadata": {},
     "output_type": "display_data"
    }
   ],
   "source": [
    "%%R\n",
    "getwd()"
   ]
  },
  {
   "cell_type": "code",
   "execution_count": 10,
   "id": "e9758d08-5e70-4912-b8dc-81e4bbb11726",
   "metadata": {},
   "outputs": [
    {
     "name": "stdin",
     "output_type": "stream",
     "text": [
      "Would you like to use a personal library instead? (yes/No/cancel)  yes\n",
      "Would you like to create a personal library\n",
      "‘/home/marlen/R/x86_64-pc-linux-gnu-library/4.4’\n",
      "to install packages into? (yes/No/cancel)  yes\n"
     ]
    },
    {
     "name": "stderr",
     "output_type": "stream",
     "text": [
      "* installing *source* package ‘colorspace’ ...\n",
      "** package ‘colorspace’ successfully unpacked and MD5 sums checked\n",
      "** using staged installation\n",
      "** libs\n",
      "using C compiler: ‘gcc (Ubuntu 11.4.0-1ubuntu1~22.04) 11.4.0’\n"
     ]
    },
    {
     "name": "stdout",
     "output_type": "stream",
     "text": [
      "gcc -I\"/usr/share/R/include\" -DNDEBUG       -fpic  -g -O2 -ffile-prefix-map=/build/r-base-avGvPq/r-base-4.4.1=. -fstack-protector-strong -Wformat -Werror=format-security -Wdate-time -D_FORTIFY_SOURCE=2  -c colorspace.c -o colorspace.o\n",
      "gcc -I\"/usr/share/R/include\" -DNDEBUG       -fpic  -g -O2 -ffile-prefix-map=/build/r-base-avGvPq/r-base-4.4.1=. -fstack-protector-strong -Wformat -Werror=format-security -Wdate-time -D_FORTIFY_SOURCE=2  -c init.c -o init.o\n",
      "gcc -shared -L/usr/lib/R/lib -Wl,-Bsymbolic-functions -flto=auto -ffat-lto-objects -flto=auto -Wl,-z,relro -o colorspace.so colorspace.o init.o -L/usr/lib/R/lib -lR\n"
     ]
    },
    {
     "name": "stderr",
     "output_type": "stream",
     "text": [
      "installing to /home/marlen/R/x86_64-pc-linux-gnu-library/4.4/00LOCK-colorspace/00new/colorspace/libs\n",
      "** R\n",
      "** data\n",
      "*** moving datasets to lazyload DB\n",
      "** demo\n",
      "** inst\n",
      "** byte-compile and prepare package for lazy loading\n",
      "** help\n",
      "*** installing help indices\n",
      "** building package indices\n",
      "** installing vignettes\n",
      "** testing if installed package can be loaded from temporary location\n",
      "** checking absolute paths in shared objects and dynamic libraries\n",
      "** testing if installed package can be loaded from final location\n",
      "** testing if installed package keeps a record of temporary installation path\n",
      "* DONE (colorspace)\n",
      "* installing *source* package ‘cli’ ...\n",
      "** package ‘cli’ successfully unpacked and MD5 sums checked\n",
      "** using staged installation\n",
      "** libs\n",
      "using C compiler: ‘gcc (Ubuntu 11.4.0-1ubuntu1~22.04) 11.4.0’\n"
     ]
    },
    {
     "name": "stdout",
     "output_type": "stream",
     "text": [
      "gcc -I\"/usr/share/R/include\" -DNDEBUG      -fvisibility=hidden -I../inst/include -fpic  -g -O2 -ffile-prefix-map=/build/r-base-avGvPq/r-base-4.4.1=. -fstack-protector-strong -Wformat -Werror=format-security -Wdate-time -D_FORTIFY_SOURCE=2  -c ansi.c -o ansi.o\n",
      "gcc -I\"/usr/share/R/include\" -DNDEBUG      -fvisibility=hidden -I../inst/include -fpic  -g -O2 -ffile-prefix-map=/build/r-base-avGvPq/r-base-4.4.1=. -fstack-protector-strong -Wformat -Werror=format-security -Wdate-time -D_FORTIFY_SOURCE=2  -c cleancall.c -o cleancall.o\n",
      "gcc -I\"/usr/share/R/include\" -DNDEBUG      -fvisibility=hidden -I../inst/include -fpic  -g -O2 -ffile-prefix-map=/build/r-base-avGvPq/r-base-4.4.1=. -fstack-protector-strong -Wformat -Werror=format-security -Wdate-time -D_FORTIFY_SOURCE=2  -c diff.c -o diff.o\n",
      "gcc -I\"/usr/share/R/include\" -DNDEBUG      -fvisibility=hidden -I../inst/include -fpic  -g -O2 -ffile-prefix-map=/build/r-base-avGvPq/r-base-4.4.1=. -fstack-protector-strong -Wformat -Werror=format-security -Wdate-time -D_FORTIFY_SOURCE=2  -c errors.c -o errors.o\n",
      "gcc -I\"/usr/share/R/include\" -DNDEBUG      -fvisibility=hidden -I../inst/include -fpic  -g -O2 -ffile-prefix-map=/build/r-base-avGvPq/r-base-4.4.1=. -fstack-protector-strong -Wformat -Werror=format-security -Wdate-time -D_FORTIFY_SOURCE=2  -c glue.c -o glue.o\n",
      "gcc -I\"/usr/share/R/include\" -DNDEBUG      -fvisibility=hidden -I../inst/include -fpic  -g -O2 -ffile-prefix-map=/build/r-base-avGvPq/r-base-4.4.1=. -fstack-protector-strong -Wformat -Werror=format-security -Wdate-time -D_FORTIFY_SOURCE=2  -c init.c -o init.o\n",
      "gcc -I\"/usr/share/R/include\" -DNDEBUG      -fvisibility=hidden -I../inst/include -fpic  -g -O2 -ffile-prefix-map=/build/r-base-avGvPq/r-base-4.4.1=. -fstack-protector-strong -Wformat -Werror=format-security -Wdate-time -D_FORTIFY_SOURCE=2  -c inst.c -o inst.o\n",
      "gcc -I\"/usr/share/R/include\" -DNDEBUG      -fvisibility=hidden -I../inst/include -fpic  -g -O2 -ffile-prefix-map=/build/r-base-avGvPq/r-base-4.4.1=. -fstack-protector-strong -Wformat -Werror=format-security -Wdate-time -D_FORTIFY_SOURCE=2  -c keypress-unix.c -o keypress-unix.o\n",
      "gcc -I\"/usr/share/R/include\" -DNDEBUG      -fvisibility=hidden -I../inst/include -fpic  -g -O2 -ffile-prefix-map=/build/r-base-avGvPq/r-base-4.4.1=. -fstack-protector-strong -Wformat -Werror=format-security -Wdate-time -D_FORTIFY_SOURCE=2  -c keypress-win.c -o keypress-win.o\n",
      "gcc -I\"/usr/share/R/include\" -DNDEBUG      -fvisibility=hidden -I../inst/include -fpic  -g -O2 -ffile-prefix-map=/build/r-base-avGvPq/r-base-4.4.1=. -fstack-protector-strong -Wformat -Werror=format-security -Wdate-time -D_FORTIFY_SOURCE=2  -c keypress.c -o keypress.o\n",
      "gcc -I\"/usr/share/R/include\" -DNDEBUG      -fvisibility=hidden -I../inst/include -fpic  -g -O2 -ffile-prefix-map=/build/r-base-avGvPq/r-base-4.4.1=. -fstack-protector-strong -Wformat -Werror=format-security -Wdate-time -D_FORTIFY_SOURCE=2  -c md5.c -o md5.o\n",
      "gcc -I\"/usr/share/R/include\" -DNDEBUG      -fvisibility=hidden -I../inst/include -fpic  -g -O2 -ffile-prefix-map=/build/r-base-avGvPq/r-base-4.4.1=. -fstack-protector-strong -Wformat -Werror=format-security -Wdate-time -D_FORTIFY_SOURCE=2  -c progress-altrep.c -o progress-altrep.o\n",
      "gcc -I\"/usr/share/R/include\" -DNDEBUG      -fvisibility=hidden -I../inst/include -fpic  -g -O2 -ffile-prefix-map=/build/r-base-avGvPq/r-base-4.4.1=. -fstack-protector-strong -Wformat -Werror=format-security -Wdate-time -D_FORTIFY_SOURCE=2  -c progress.c -o progress.o\n",
      "gcc -I\"/usr/share/R/include\" -DNDEBUG      -fvisibility=hidden -I../inst/include -fpic  -g -O2 -ffile-prefix-map=/build/r-base-avGvPq/r-base-4.4.1=. -fstack-protector-strong -Wformat -Werror=format-security -Wdate-time -D_FORTIFY_SOURCE=2  -c sha1.c -o sha1.o\n",
      "gcc -I\"/usr/share/R/include\" -DNDEBUG      -fvisibility=hidden -I../inst/include -fpic  -g -O2 -ffile-prefix-map=/build/r-base-avGvPq/r-base-4.4.1=. -fstack-protector-strong -Wformat -Werror=format-security -Wdate-time -D_FORTIFY_SOURCE=2  -c sha256.c -o sha256.o\n",
      "gcc -I\"/usr/share/R/include\" -DNDEBUG      -fvisibility=hidden -I../inst/include -fpic  -g -O2 -ffile-prefix-map=/build/r-base-avGvPq/r-base-4.4.1=. -fstack-protector-strong -Wformat -Werror=format-security -Wdate-time -D_FORTIFY_SOURCE=2  -c thread.c -o thread.o\n",
      "gcc -I\"/usr/share/R/include\" -DNDEBUG      -fvisibility=hidden -I../inst/include -fpic  -g -O2 -ffile-prefix-map=/build/r-base-avGvPq/r-base-4.4.1=. -fstack-protector-strong -Wformat -Werror=format-security -Wdate-time -D_FORTIFY_SOURCE=2  -c tty.c -o tty.o\n",
      "gcc -I\"/usr/share/R/include\" -DNDEBUG      -fvisibility=hidden -I../inst/include -fpic  -g -O2 -ffile-prefix-map=/build/r-base-avGvPq/r-base-4.4.1=. -fstack-protector-strong -Wformat -Werror=format-security -Wdate-time -D_FORTIFY_SOURCE=2  -c utf8.c -o utf8.o\n",
      "gcc -I\"/usr/share/R/include\" -DNDEBUG      -fvisibility=hidden -I../inst/include -fpic  -g -O2 -ffile-prefix-map=/build/r-base-avGvPq/r-base-4.4.1=. -fstack-protector-strong -Wformat -Werror=format-security -Wdate-time -D_FORTIFY_SOURCE=2  -c utils.c -o utils.o\n",
      "gcc -I\"/usr/share/R/include\" -DNDEBUG      -fvisibility=hidden -I../inst/include -fpic  -g -O2 -ffile-prefix-map=/build/r-base-avGvPq/r-base-4.4.1=. -fstack-protector-strong -Wformat -Werror=format-security -Wdate-time -D_FORTIFY_SOURCE=2  -c vt.c -o vt.o\n",
      "gcc -I\"/usr/share/R/include\" -DNDEBUG      -fvisibility=hidden -I../inst/include -fpic  -g -O2 -ffile-prefix-map=/build/r-base-avGvPq/r-base-4.4.1=. -fstack-protector-strong -Wformat -Werror=format-security -Wdate-time -D_FORTIFY_SOURCE=2  -c vtparse.c -o vtparse.o\n",
      "gcc -I\"/usr/share/R/include\" -DNDEBUG      -fvisibility=hidden -I../inst/include -fpic  -g -O2 -ffile-prefix-map=/build/r-base-avGvPq/r-base-4.4.1=. -fstack-protector-strong -Wformat -Werror=format-security -Wdate-time -D_FORTIFY_SOURCE=2  -c vtparse_table.c -o vtparse_table.o\n",
      "gcc -I\"/usr/share/R/include\" -DNDEBUG      -fvisibility=hidden -I../inst/include -fpic  -g -O2 -ffile-prefix-map=/build/r-base-avGvPq/r-base-4.4.1=. -fstack-protector-strong -Wformat -Werror=format-security -Wdate-time -D_FORTIFY_SOURCE=2  -c win-utf8.c -o win-utf8.o\n",
      "gcc -I\"/usr/share/R/include\" -DNDEBUG      -fvisibility=hidden -I../inst/include -fpic  -g -O2 -ffile-prefix-map=/build/r-base-avGvPq/r-base-4.4.1=. -fstack-protector-strong -Wformat -Werror=format-security -Wdate-time -D_FORTIFY_SOURCE=2  -c winfiles.c -o winfiles.o\n",
      "gcc -shared -L/usr/lib/R/lib -Wl,-Bsymbolic-functions -flto=auto -ffat-lto-objects -flto=auto -Wl,-z,relro -o cli.so ansi.o cleancall.o diff.o errors.o glue.o init.o inst.o keypress-unix.o keypress-win.o keypress.o md5.o progress-altrep.o progress.o sha1.o sha256.o thread.o tty.o utf8.o utils.o vt.o vtparse.o vtparse_table.o win-utf8.o winfiles.o -lpthread -L/usr/lib/R/lib -lR\n"
     ]
    },
    {
     "name": "stderr",
     "output_type": "stream",
     "text": [
      "installing to /home/marlen/R/x86_64-pc-linux-gnu-library/4.4/00LOCK-cli/00new/cli/libs\n",
      "** R\n",
      "** exec\n",
      "** inst\n",
      "** byte-compile and prepare package for lazy loading\n",
      "** help\n",
      "*** installing help indices\n",
      "*** copying figures\n",
      "** building package indices\n",
      "** testing if installed package can be loaded from temporary location\n",
      "** checking absolute paths in shared objects and dynamic libraries\n",
      "** testing if installed package can be loaded from final location\n",
      "** testing if installed package keeps a record of temporary installation path\n",
      "* DONE (cli)\n",
      "* installing *source* package ‘farver’ ...\n",
      "** package ‘farver’ successfully unpacked and MD5 sums checked\n",
      "** using staged installation\n",
      "** libs\n",
      "using C++ compiler: ‘g++ (Ubuntu 11.4.0-1ubuntu1~22.04) 11.4.0’\n"
     ]
    },
    {
     "name": "stdout",
     "output_type": "stream",
     "text": [
      "g++ -std=gnu++17 -I\"/usr/share/R/include\" -DNDEBUG       -fpic  -g -O2 -ffile-prefix-map=/build/r-base-avGvPq/r-base-4.4.1=. -fstack-protector-strong -Wformat -Werror=format-security -Wdate-time -D_FORTIFY_SOURCE=2   -c ColorSpace.cpp -o ColorSpace.o\n",
      "g++ -std=gnu++17 -I\"/usr/share/R/include\" -DNDEBUG       -fpic  -g -O2 -ffile-prefix-map=/build/r-base-avGvPq/r-base-4.4.1=. -fstack-protector-strong -Wformat -Werror=format-security -Wdate-time -D_FORTIFY_SOURCE=2   -c Comparison.cpp -o Comparison.o\n",
      "g++ -std=gnu++17 -I\"/usr/share/R/include\" -DNDEBUG       -fpic  -g -O2 -ffile-prefix-map=/build/r-base-avGvPq/r-base-4.4.1=. -fstack-protector-strong -Wformat -Werror=format-security -Wdate-time -D_FORTIFY_SOURCE=2   -c Conversion.cpp -o Conversion.o\n",
      "g++ -std=gnu++17 -I\"/usr/share/R/include\" -DNDEBUG       -fpic  -g -O2 -ffile-prefix-map=/build/r-base-avGvPq/r-base-4.4.1=. -fstack-protector-strong -Wformat -Werror=format-security -Wdate-time -D_FORTIFY_SOURCE=2   -c encode.cpp -o encode.o\n",
      "g++ -std=gnu++17 -I\"/usr/share/R/include\" -DNDEBUG       -fpic  -g -O2 -ffile-prefix-map=/build/r-base-avGvPq/r-base-4.4.1=. -fstack-protector-strong -Wformat -Werror=format-security -Wdate-time -D_FORTIFY_SOURCE=2   -c farver.cpp -o farver.o\n",
      "g++ -std=gnu++17 -I\"/usr/share/R/include\" -DNDEBUG       -fpic  -g -O2 -ffile-prefix-map=/build/r-base-avGvPq/r-base-4.4.1=. -fstack-protector-strong -Wformat -Werror=format-security -Wdate-time -D_FORTIFY_SOURCE=2   -c init.cpp -o init.o\n",
      "g++ -std=gnu++17 -shared -L/usr/lib/R/lib -Wl,-Bsymbolic-functions -flto=auto -ffat-lto-objects -flto=auto -Wl,-z,relro -o farver.so ColorSpace.o Comparison.o Conversion.o encode.o farver.o init.o -L/usr/lib/R/lib -lR\n"
     ]
    },
    {
     "name": "stderr",
     "output_type": "stream",
     "text": [
      "installing to /home/marlen/R/x86_64-pc-linux-gnu-library/4.4/00LOCK-farver/00new/farver/libs\n",
      "** R\n",
      "** byte-compile and prepare package for lazy loading\n",
      "** help\n",
      "*** installing help indices\n",
      "*** copying figures\n",
      "** building package indices\n",
      "** testing if installed package can be loaded from temporary location\n",
      "** checking absolute paths in shared objects and dynamic libraries\n",
      "** testing if installed package can be loaded from final location\n",
      "** testing if installed package keeps a record of temporary installation path\n",
      "* DONE (farver)\n",
      "* installing *source* package ‘glue’ ...\n",
      "** package ‘glue’ successfully unpacked and MD5 sums checked\n",
      "** using staged installation\n",
      "** libs\n",
      "using C compiler: ‘gcc (Ubuntu 11.4.0-1ubuntu1~22.04) 11.4.0’\n"
     ]
    },
    {
     "name": "stdout",
     "output_type": "stream",
     "text": [
      "gcc -I\"/usr/share/R/include\" -DNDEBUG      -fvisibility=hidden -fpic  -g -O2 -ffile-prefix-map=/build/r-base-avGvPq/r-base-4.4.1=. -fstack-protector-strong -Wformat -Werror=format-security -Wdate-time -D_FORTIFY_SOURCE=2  -c glue.c -o glue.o\n",
      "gcc -I\"/usr/share/R/include\" -DNDEBUG      -fvisibility=hidden -fpic  -g -O2 -ffile-prefix-map=/build/r-base-avGvPq/r-base-4.4.1=. -fstack-protector-strong -Wformat -Werror=format-security -Wdate-time -D_FORTIFY_SOURCE=2  -c init.c -o init.o\n",
      "gcc -I\"/usr/share/R/include\" -DNDEBUG      -fvisibility=hidden -fpic  -g -O2 -ffile-prefix-map=/build/r-base-avGvPq/r-base-4.4.1=. -fstack-protector-strong -Wformat -Werror=format-security -Wdate-time -D_FORTIFY_SOURCE=2  -c trim.c -o trim.o\n",
      "gcc -shared -L/usr/lib/R/lib -Wl,-Bsymbolic-functions -flto=auto -ffat-lto-objects -flto=auto -Wl,-z,relro -o glue.so glue.o init.o trim.o -L/usr/lib/R/lib -lR\n"
     ]
    },
    {
     "name": "stderr",
     "output_type": "stream",
     "text": [
      "installing to /home/marlen/R/x86_64-pc-linux-gnu-library/4.4/00LOCK-glue/00new/glue/libs\n",
      "** R\n",
      "** inst\n",
      "** byte-compile and prepare package for lazy loading\n",
      "** help\n",
      "*** installing help indices\n",
      "*** copying figures\n",
      "** building package indices\n",
      "** installing vignettes\n",
      "** testing if installed package can be loaded from temporary location\n",
      "** checking absolute paths in shared objects and dynamic libraries\n",
      "** testing if installed package can be loaded from final location\n",
      "** testing if installed package keeps a record of temporary installation path\n",
      "* DONE (glue)\n",
      "* installing *source* package ‘labeling’ ...\n",
      "** package ‘labeling’ successfully unpacked and MD5 sums checked\n",
      "** using staged installation\n",
      "** R\n",
      "** byte-compile and prepare package for lazy loading\n",
      "** help\n",
      "*** installing help indices\n",
      "** building package indices\n",
      "** testing if installed package can be loaded from temporary location\n",
      "** testing if installed package can be loaded from final location\n",
      "** testing if installed package keeps a record of temporary installation path\n",
      "* DONE (labeling)\n",
      "* installing *source* package ‘R6’ ...\n",
      "** package ‘R6’ successfully unpacked and MD5 sums checked\n",
      "** using staged installation\n",
      "** R\n",
      "** byte-compile and prepare package for lazy loading\n",
      "** help\n",
      "*** installing help indices\n",
      "*** copying figures\n",
      "** building package indices\n",
      "** testing if installed package can be loaded from temporary location\n",
      "** testing if installed package can be loaded from final location\n",
      "** testing if installed package keeps a record of temporary installation path\n",
      "* DONE (R6)\n",
      "* installing *source* package ‘rlang’ ...\n",
      "** package ‘rlang’ successfully unpacked and MD5 sums checked\n",
      "** using staged installation\n",
      "** libs\n",
      "using C compiler: ‘gcc (Ubuntu 11.4.0-1ubuntu1~22.04) 11.4.0’\n"
     ]
    },
    {
     "name": "stdout",
     "output_type": "stream",
     "text": [
      "gcc -I\"/usr/share/R/include\" -DNDEBUG -I./rlang/     -fvisibility=hidden -fpic  -g -O2 -ffile-prefix-map=/build/r-base-avGvPq/r-base-4.4.1=. -fstack-protector-strong -Wformat -Werror=format-security -Wdate-time -D_FORTIFY_SOURCE=2  -c capture.c -o capture.o\n",
      "gcc -I\"/usr/share/R/include\" -DNDEBUG -I./rlang/     -fvisibility=hidden -fpic  -g -O2 -ffile-prefix-map=/build/r-base-avGvPq/r-base-4.4.1=. -fstack-protector-strong -Wformat -Werror=format-security -Wdate-time -D_FORTIFY_SOURCE=2  -c internal.c -o internal.o\n",
      "gcc -I\"/usr/share/R/include\" -DNDEBUG -I./rlang/     -fvisibility=hidden -fpic  -g -O2 -ffile-prefix-map=/build/r-base-avGvPq/r-base-4.4.1=. -fstack-protector-strong -Wformat -Werror=format-security -Wdate-time -D_FORTIFY_SOURCE=2  -c rlang.c -o rlang.o\n",
      "gcc -I\"/usr/share/R/include\" -DNDEBUG -I./rlang/     -fvisibility=hidden -fpic  -g -O2 -ffile-prefix-map=/build/r-base-avGvPq/r-base-4.4.1=. -fstack-protector-strong -Wformat -Werror=format-security -Wdate-time -D_FORTIFY_SOURCE=2  -c version.c -o version.o\n",
      "gcc -shared -L/usr/lib/R/lib -Wl,-Bsymbolic-functions -flto=auto -ffat-lto-objects -flto=auto -Wl,-z,relro -o rlang.so capture.o internal.o rlang.o version.o -L/usr/lib/R/lib -lR\n"
     ]
    },
    {
     "name": "stderr",
     "output_type": "stream",
     "text": [
      "installing to /home/marlen/R/x86_64-pc-linux-gnu-library/4.4/00LOCK-rlang/00new/rlang/libs\n",
      "** R\n",
      "** inst\n",
      "** byte-compile and prepare package for lazy loading\n",
      "** help\n",
      "*** installing help indices\n",
      "*** copying figures\n",
      "** building package indices\n",
      "** testing if installed package can be loaded from temporary location\n",
      "** checking absolute paths in shared objects and dynamic libraries\n",
      "** testing if installed package can be loaded from final location\n",
      "** testing if installed package keeps a record of temporary installation path\n",
      "* DONE (rlang)\n",
      "* installing *source* package ‘viridisLite’ ...\n",
      "** package ‘viridisLite’ successfully unpacked and MD5 sums checked\n",
      "** using staged installation\n",
      "** R\n",
      "** inst\n",
      "** byte-compile and prepare package for lazy loading\n",
      "** help\n",
      "*** installing help indices\n",
      "*** copying figures\n",
      "** building package indices\n",
      "** testing if installed package can be loaded from temporary location\n",
      "** testing if installed package can be loaded from final location\n",
      "** testing if installed package keeps a record of temporary installation path\n",
      "* DONE (viridisLite)\n",
      "* installing *source* package ‘RColorBrewer’ ...\n",
      "** package ‘RColorBrewer’ successfully unpacked and MD5 sums checked\n",
      "** using staged installation\n",
      "** R\n",
      "** inst\n",
      "** byte-compile and prepare package for lazy loading\n",
      "\n",
      "* removing ‘/home/marlen/R/x86_64-pc-linux-gnu-library/4.4/RColorBrewer’\n"
     ]
    },
    {
     "name": "stdout",
     "output_type": "stream",
     "text": [
      "\n",
      "Execution halted\n"
     ]
    },
    {
     "name": "stderr",
     "output_type": "stream",
     "text": [
      "* installing *source* package ‘lifecycle’ ...\n",
      "** package ‘lifecycle’ successfully unpacked and MD5 sums checked\n",
      "** using staged installation\n",
      "** R\n",
      "** inst\n",
      "** byte-compile and prepare package for lazy loading\n",
      "** help\n",
      "*** installing help indices\n",
      "*** copying figures\n",
      "** building package indices\n",
      "** installing vignettes\n",
      "** testing if installed package can be loaded from temporary location\n",
      "** testing if installed package can be loaded from final location\n",
      "** testing if installed package keeps a record of temporary installation path\n",
      "* DONE (lifecycle)\n",
      "* installing *source* package ‘munsell’ ...\n",
      "** package ‘munsell’ successfully unpacked and MD5 sums checked\n",
      "** using staged installation\n",
      "** R\n",
      "** inst\n",
      "** byte-compile and prepare package for lazy loading\n",
      "** help\n",
      "*** installing help indices\n",
      "*** copying figures\n",
      "** building package indices\n",
      "** testing if installed package can be loaded from temporary location\n",
      "** testing if installed package can be loaded from final location\n",
      "** testing if installed package keeps a record of temporary installation path\n",
      "* DONE (munsell)\n",
      "ERROR: dependency ‘RColorBrewer’ is not available for package ‘scales’\n",
      "* removing ‘/home/marlen/R/x86_64-pc-linux-gnu-library/4.4/scales’\n",
      "* installing *source* package ‘gtable’ ...\n",
      "** package ‘gtable’ successfully unpacked and MD5 sums checked\n",
      "** using staged installation\n",
      "** R\n",
      "** inst\n",
      "** byte-compile and prepare package for lazy loading\n",
      "** help\n",
      "*** installing help indices\n",
      "*** copying figures\n",
      "** building package indices\n",
      "** installing vignettes\n",
      "** testing if installed package can be loaded from temporary location\n",
      "** testing if installed package can be loaded from final location\n",
      "** testing if installed package keeps a record of temporary installation path\n",
      "* DONE (gtable)\n",
      "ERROR: dependencies ‘RColorBrewer’, ‘scales’ are not available for package ‘pheatmap’\n",
      "* removing ‘/home/marlen/R/x86_64-pc-linux-gnu-library/4.4/pheatmap’\n"
     ]
    },
    {
     "name": "stdout",
     "output_type": "stream",
     "text": [
      "Installing package into ‘/usr/local/lib/R/site-library’\n",
      "(as ‘lib’ is unspecified)\n",
      "Warning in install.packages(\"pheatmap\") :\n",
      "  'lib = \"/usr/local/lib/R/site-library\"' is not writable\n",
      "also installing the dependencies ‘colorspace’, ‘cli’, ‘farver’, ‘glue’, ‘labeling’, ‘lifecycle’, ‘munsell’, ‘R6’, ‘rlang’, ‘viridisLite’, ‘RColorBrewer’, ‘scales’, ‘gtable’\n",
      "\n",
      "trying URL 'https://cloud.r-project.org/src/contrib/colorspace_2.1-1.tar.gz'\n",
      "Content type 'application/x-gzip' length 2141289 bytes (2.0 MB)\n",
      "==================================================\n",
      "downloaded 2.0 MB\n",
      "\n",
      "trying URL 'https://cloud.r-project.org/src/contrib/cli_3.6.3.tar.gz'\n",
      "Content type 'application/x-gzip' length 568162 bytes (554 KB)\n",
      "==================================================\n",
      "downloaded 554 KB\n",
      "\n",
      "trying URL 'https://cloud.r-project.org/src/contrib/farver_2.1.2.tar.gz'\n",
      "Content type 'application/x-gzip' length 1275981 bytes (1.2 MB)\n",
      "==================================================\n",
      "downloaded 1.2 MB\n",
      "\n",
      "trying URL 'https://cloud.r-project.org/src/contrib/glue_1.7.0.tar.gz'\n",
      "Content type 'application/x-gzip' length 105420 bytes (102 KB)\n",
      "==================================================\n",
      "downloaded 102 KB\n",
      "\n",
      "trying URL 'https://cloud.r-project.org/src/contrib/labeling_0.4.3.tar.gz'\n",
      "Content type 'application/x-gzip' length 10167 bytes\n",
      "==================================================\n",
      "downloaded 10167 bytes\n",
      "\n",
      "trying URL 'https://cloud.r-project.org/src/contrib/lifecycle_1.0.4.tar.gz'\n",
      "Content type 'application/x-gzip' length 107656 bytes (105 KB)\n",
      "==================================================\n",
      "downloaded 105 KB\n",
      "\n",
      "trying URL 'https://cloud.r-project.org/src/contrib/munsell_0.5.1.tar.gz'\n",
      "Content type 'application/x-gzip' length 182310 bytes (178 KB)\n",
      "==================================================\n",
      "downloaded 178 KB\n",
      "\n",
      "trying URL 'https://cloud.r-project.org/src/contrib/R6_2.5.1.tar.gz'\n",
      "Content type 'application/x-gzip' length 63422 bytes (61 KB)\n",
      "==================================================\n",
      "downloaded 61 KB\n",
      "\n",
      "trying URL 'https://cloud.r-project.org/src/contrib/rlang_1.1.4.tar.gz'\n",
      "Content type 'application/x-gzip' length 767041 bytes (749 KB)\n",
      "==================================================\n",
      "downloaded 749 KB\n",
      "\n",
      "trying URL 'https://cloud.r-project.org/src/contrib/viridisLite_0.4.2.tar.gz'\n",
      "Content type 'application/x-gzip' length 1267121 bytes (1.2 MB)\n",
      "==================================================\n",
      "downloaded 1.2 MB\n",
      "\n",
      "trying URL 'https://cloud.r-project.org/src/contrib/RColorBrewer_1.1-3.tar.gz'\n",
      "Content type 'application/x-gzip' length 11638 bytes (11 KB)\n",
      "==================================================\n",
      "downloaded 11 KB\n",
      "\n",
      "trying URL 'https://cloud.r-project.org/src/contrib/scales_1.3.0.tar.gz'\n",
      "Content type 'application/x-gzip' length 302544 bytes (295 KB)\n",
      "==================================================\n",
      "downloaded 295 KB\n",
      "\n",
      "trying URL 'https://cloud.r-project.org/src/contrib/gtable_0.3.5.tar.gz'\n",
      "Content type 'application/x-gzip' length 130227 bytes (127 KB)\n",
      "==================================================\n",
      "downloaded 127 KB\n",
      "\n",
      "trying URL 'https://cloud.r-project.org/src/contrib/pheatmap_1.0.12.tar.gz'\n",
      "Content type 'application/x-gzip' length 15071 bytes (14 KB)\n",
      "==================================================\n",
      "downloaded 14 KB\n",
      "\n",
      "\n",
      "The downloaded source packages are in\n",
      "\t‘/tmp/Rtmpjq70nK/downloaded_packages’\n",
      "Error in library(pheatmap) : there is no package called ‘pheatmap’\n",
      "In addition: Warning messages:\n",
      "1: In install.packages(\"pheatmap\") :\n",
      "  installation of package ‘RColorBrewer’ had non-zero exit status\n",
      "2: In install.packages(\"pheatmap\") :\n",
      "  installation of package ‘scales’ had non-zero exit status\n",
      "3: In install.packages(\"pheatmap\") :\n",
      "  installation of package ‘pheatmap’ had non-zero exit status\n",
      "Error in library(pheatmap) : there is no package called ‘pheatmap’\n"
     ]
    },
    {
     "ename": "RInterpreterError",
     "evalue": "Failed to parse and evaluate line '#Se instala\\ninstall.packages(\"pheatmap\")\\n\\n#Se ejecuta la librerìa\\nlibrary(pheatmap)\\n\\n#Se importa matriz desde pyAni\\nmatrix_ani <- read.csv(\\'ANIb_output/ANIb_percentage_identity.tab\\', row.names=1, sep=\"\\\\t\")\\n\\n#Se traslada a pheatmap\\npheatmap(matrix_ani)\\n\\n#Se produce heatmap colorblind-friendly\\npheatmap(matrix_ani, color = hcl.colors(50, \"Blue-Red 3\"))\\n'.\nR error message: 'Error in library(pheatmap) : there is no package called ‘pheatmap’'\nR stdout:\nInstalling package into ‘/usr/local/lib/R/site-library’\n(as ‘lib’ is unspecified)\nWarning in install.packages(\"pheatmap\") :\n  'lib = \"/usr/local/lib/R/site-library\"' is not writable\nalso installing the dependencies ‘colorspace’, ‘cli’, ‘farver’, ‘glue’, ‘labeling’, ‘lifecycle’, ‘munsell’, ‘R6’, ‘rlang’, ‘viridisLite’, ‘RColorBrewer’, ‘scales’, ‘gtable’\n\ntrying URL 'https://cloud.r-project.org/src/contrib/colorspace_2.1-1.tar.gz'\nContent type 'application/x-gzip' length 2141289 bytes (2.0 MB)\n==================================================\ndownloaded 2.0 MB\n\ntrying URL 'https://cloud.r-project.org/src/contrib/cli_3.6.3.tar.gz'\nContent type 'application/x-gzip' length 568162 bytes (554 KB)\n==================================================\ndownloaded 554 KB\n\ntrying URL 'https://cloud.r-project.org/src/contrib/farver_2.1.2.tar.gz'\nContent type 'application/x-gzip' length 1275981 bytes (1.2 MB)\n==================================================\ndownloaded 1.2 MB\n\ntrying URL 'https://cloud.r-project.org/src/contrib/glue_1.7.0.tar.gz'\nContent type 'application/x-gzip' length 105420 bytes (102 KB)\n==================================================\ndownloaded 102 KB\n\ntrying URL 'https://cloud.r-project.org/src/contrib/labeling_0.4.3.tar.gz'\nContent type 'application/x-gzip' length 10167 bytes\n==================================================\ndownloaded 10167 bytes\n\ntrying URL 'https://cloud.r-project.org/src/contrib/lifecycle_1.0.4.tar.gz'\nContent type 'application/x-gzip' length 107656 bytes (105 KB)\n==================================================\ndownloaded 105 KB\n\ntrying URL 'https://cloud.r-project.org/src/contrib/munsell_0.5.1.tar.gz'\nContent type 'application/x-gzip' length 182310 bytes (178 KB)\n==================================================\ndownloaded 178 KB\n\ntrying URL 'https://cloud.r-project.org/src/contrib/R6_2.5.1.tar.gz'\nContent type 'application/x-gzip' length 63422 bytes (61 KB)\n==================================================\ndownloaded 61 KB\n\ntrying URL 'https://cloud.r-project.org/src/contrib/rlang_1.1.4.tar.gz'\nContent type 'application/x-gzip' length 767041 bytes (749 KB)\n==================================================\ndownloaded 749 KB\n\ntrying URL 'https://cloud.r-project.org/src/contrib/viridisLite_0.4.2.tar.gz'\nContent type 'application/x-gzip' length 1267121 bytes (1.2 MB)\n==================================================\ndownloaded 1.2 MB\n\ntrying URL 'https://cloud.r-project.org/src/contrib/RColorBrewer_1.1-3.tar.gz'\nContent type 'application/x-gzip' length 11638 bytes (11 KB)\n==================================================\ndownloaded 11 KB\n\ntrying URL 'https://cloud.r-project.org/src/contrib/scales_1.3.0.tar.gz'\nContent type 'application/x-gzip' length 302544 bytes (295 KB)\n==================================================\ndownloaded 295 KB\n\ntrying URL 'https://cloud.r-project.org/src/contrib/gtable_0.3.5.tar.gz'\nContent type 'application/x-gzip' length 130227 bytes (127 KB)\n==================================================\ndownloaded 127 KB\n\ntrying URL 'https://cloud.r-project.org/src/contrib/pheatmap_1.0.12.tar.gz'\nContent type 'application/x-gzip' length 15071 bytes (14 KB)\n==================================================\ndownloaded 14 KB\n\n\nThe downloaded source packages are in\n\t‘/tmp/Rtmpjq70nK/downloaded_packages’\nError in library(pheatmap) : there is no package called ‘pheatmap’\nIn addition: Warning messages:\n1: In install.packages(\"pheatmap\") :\n  installation of package ‘RColorBrewer’ had non-zero exit status\n2: In install.packages(\"pheatmap\") :\n  installation of package ‘scales’ had non-zero exit status\n3: In install.packages(\"pheatmap\") :\n  installation of package ‘pheatmap’ had non-zero exit status",
     "output_type": "error",
     "traceback": [
      "\u001b[0;31m---------------------------------------------------------------------------\u001b[0m",
      "\u001b[0;31mRRuntimeError\u001b[0m                             Traceback (most recent call last)",
      "File \u001b[0;32m~/miniforge3/envs/pseudomonas-environment/lib/python3.9/site-packages/rpy2/ipython/rmagic.py:407\u001b[0m, in \u001b[0;36mRMagics.eval\u001b[0;34m(self, code)\u001b[0m\n\u001b[1;32m    406\u001b[0m     r_expr \u001b[38;5;241m=\u001b[39m ri\u001b[38;5;241m.\u001b[39mparse(code)\n\u001b[0;32m--> 407\u001b[0m     value, visible \u001b[38;5;241m=\u001b[39m \u001b[43mri\u001b[49m\u001b[38;5;241;43m.\u001b[39;49m\u001b[43mevalr_expr_with_visible\u001b[49m\u001b[43m(\u001b[49m\n\u001b[1;32m    408\u001b[0m \u001b[43m        \u001b[49m\u001b[43mr_expr\u001b[49m\n\u001b[1;32m    409\u001b[0m \u001b[43m    \u001b[49m\u001b[43m)\u001b[49m\n\u001b[1;32m    410\u001b[0m \u001b[38;5;28;01mexcept\u001b[39;00m (ri\u001b[38;5;241m.\u001b[39membedded\u001b[38;5;241m.\u001b[39mRRuntimeError, \u001b[38;5;167;01mValueError\u001b[39;00m) \u001b[38;5;28;01mas\u001b[39;00m exception:\n\u001b[1;32m    411\u001b[0m     \u001b[38;5;66;03m# Otherwise next return seems to have copy of error.\u001b[39;00m\n",
      "File \u001b[0;32m~/miniforge3/envs/pseudomonas-environment/lib/python3.9/site-packages/rpy2/rinterface.py:192\u001b[0m, in \u001b[0;36mevalr_expr_with_visible\u001b[0;34m(expr, envir)\u001b[0m\n\u001b[1;32m    191\u001b[0m \u001b[38;5;28;01mif\u001b[39;00m error_occured[\u001b[38;5;241m0\u001b[39m]:\n\u001b[0;32m--> 192\u001b[0m     \u001b[38;5;28;01mraise\u001b[39;00m embedded\u001b[38;5;241m.\u001b[39mRRuntimeError(_rinterface\u001b[38;5;241m.\u001b[39m_geterrmessage())\n\u001b[1;32m    193\u001b[0m res \u001b[38;5;241m=\u001b[39m conversion\u001b[38;5;241m.\u001b[39m_cdata_to_rinterface(r_res)\n",
      "\u001b[0;31mRRuntimeError\u001b[0m: Error in library(pheatmap) : there is no package called ‘pheatmap’\n",
      "\nDuring handling of the above exception, another exception occurred:\n",
      "\u001b[0;31mRInterpreterError\u001b[0m                         Traceback (most recent call last)",
      "Cell \u001b[0;32mIn[10], line 1\u001b[0m\n\u001b[0;32m----> 1\u001b[0m \u001b[43mget_ipython\u001b[49m\u001b[43m(\u001b[49m\u001b[43m)\u001b[49m\u001b[38;5;241;43m.\u001b[39;49m\u001b[43mrun_cell_magic\u001b[49m\u001b[43m(\u001b[49m\u001b[38;5;124;43m'\u001b[39;49m\u001b[38;5;124;43mR\u001b[39;49m\u001b[38;5;124;43m'\u001b[39;49m\u001b[43m,\u001b[49m\u001b[43m \u001b[49m\u001b[38;5;124;43m'\u001b[39;49m\u001b[38;5;124;43m'\u001b[39;49m\u001b[43m,\u001b[49m\u001b[43m \u001b[49m\u001b[38;5;124;43m'\u001b[39;49m\u001b[38;5;124;43m#Se instala\u001b[39;49m\u001b[38;5;130;43;01m\\n\u001b[39;49;00m\u001b[38;5;124;43minstall.packages(\u001b[39;49m\u001b[38;5;124;43m\"\u001b[39;49m\u001b[38;5;124;43mpheatmap\u001b[39;49m\u001b[38;5;124;43m\"\u001b[39;49m\u001b[38;5;124;43m)\u001b[39;49m\u001b[38;5;130;43;01m\\n\u001b[39;49;00m\u001b[38;5;130;43;01m\\n\u001b[39;49;00m\u001b[38;5;124;43m#Se ejecuta la librerìa\u001b[39;49m\u001b[38;5;130;43;01m\\n\u001b[39;49;00m\u001b[38;5;124;43mlibrary(pheatmap)\u001b[39;49m\u001b[38;5;130;43;01m\\n\u001b[39;49;00m\u001b[38;5;130;43;01m\\n\u001b[39;49;00m\u001b[38;5;124;43m#Se importa matriz desde pyAni\u001b[39;49m\u001b[38;5;130;43;01m\\n\u001b[39;49;00m\u001b[38;5;124;43mmatrix_ani <- read.csv(\u001b[39;49m\u001b[38;5;130;43;01m\\'\u001b[39;49;00m\u001b[38;5;124;43mANIb_output/ANIb_percentage_identity.tab\u001b[39;49m\u001b[38;5;130;43;01m\\'\u001b[39;49;00m\u001b[38;5;124;43m, row.names=1, sep=\u001b[39;49m\u001b[38;5;124;43m\"\u001b[39;49m\u001b[38;5;130;43;01m\\\\\u001b[39;49;00m\u001b[38;5;124;43mt\u001b[39;49m\u001b[38;5;124;43m\"\u001b[39;49m\u001b[38;5;124;43m)\u001b[39;49m\u001b[38;5;130;43;01m\\n\u001b[39;49;00m\u001b[38;5;130;43;01m\\n\u001b[39;49;00m\u001b[38;5;124;43m#Se traslada a pheatmap\u001b[39;49m\u001b[38;5;130;43;01m\\n\u001b[39;49;00m\u001b[38;5;124;43mpheatmap(matrix_ani)\u001b[39;49m\u001b[38;5;130;43;01m\\n\u001b[39;49;00m\u001b[38;5;130;43;01m\\n\u001b[39;49;00m\u001b[38;5;124;43m#Se produce heatmap colorblind-friendly\u001b[39;49m\u001b[38;5;130;43;01m\\n\u001b[39;49;00m\u001b[38;5;124;43mpheatmap(matrix_ani, color = hcl.colors(50, \u001b[39;49m\u001b[38;5;124;43m\"\u001b[39;49m\u001b[38;5;124;43mBlue-Red 3\u001b[39;49m\u001b[38;5;124;43m\"\u001b[39;49m\u001b[38;5;124;43m))\u001b[39;49m\u001b[38;5;130;43;01m\\n\u001b[39;49;00m\u001b[38;5;124;43m'\u001b[39;49m\u001b[43m)\u001b[49m\n",
      "File \u001b[0;32m~/miniforge3/envs/pseudomonas-environment/lib/python3.9/site-packages/IPython/core/interactiveshell.py:2493\u001b[0m, in \u001b[0;36mInteractiveShell.run_cell_magic\u001b[0;34m(self, magic_name, line, cell)\u001b[0m\n\u001b[1;32m   2491\u001b[0m \u001b[38;5;28;01mwith\u001b[39;00m \u001b[38;5;28mself\u001b[39m\u001b[38;5;241m.\u001b[39mbuiltin_trap:\n\u001b[1;32m   2492\u001b[0m     args \u001b[38;5;241m=\u001b[39m (magic_arg_s, cell)\n\u001b[0;32m-> 2493\u001b[0m     result \u001b[38;5;241m=\u001b[39m \u001b[43mfn\u001b[49m\u001b[43m(\u001b[49m\u001b[38;5;241;43m*\u001b[39;49m\u001b[43margs\u001b[49m\u001b[43m,\u001b[49m\u001b[43m \u001b[49m\u001b[38;5;241;43m*\u001b[39;49m\u001b[38;5;241;43m*\u001b[39;49m\u001b[43mkwargs\u001b[49m\u001b[43m)\u001b[49m\n\u001b[1;32m   2495\u001b[0m \u001b[38;5;66;03m# The code below prevents the output from being displayed\u001b[39;00m\n\u001b[1;32m   2496\u001b[0m \u001b[38;5;66;03m# when using magics with decorator @output_can_be_silenced\u001b[39;00m\n\u001b[1;32m   2497\u001b[0m \u001b[38;5;66;03m# when the last Python token in the expression is a ';'.\u001b[39;00m\n\u001b[1;32m   2498\u001b[0m \u001b[38;5;28;01mif\u001b[39;00m \u001b[38;5;28mgetattr\u001b[39m(fn, magic\u001b[38;5;241m.\u001b[39mMAGIC_OUTPUT_CAN_BE_SILENCED, \u001b[38;5;28;01mFalse\u001b[39;00m):\n",
      "File \u001b[0;32m~/miniforge3/envs/pseudomonas-environment/lib/python3.9/site-packages/rpy2/ipython/rmagic.py:984\u001b[0m, in \u001b[0;36mRMagics.R\u001b[0;34m(self, line, cell, local_ns)\u001b[0m\n\u001b[1;32m    982\u001b[0m     \u001b[38;5;28;01mif\u001b[39;00m \u001b[38;5;129;01mnot\u001b[39;00m e\u001b[38;5;241m.\u001b[39mstdout\u001b[38;5;241m.\u001b[39mendswith(e\u001b[38;5;241m.\u001b[39merr):\n\u001b[1;32m    983\u001b[0m         \u001b[38;5;28mprint\u001b[39m(e\u001b[38;5;241m.\u001b[39merr)\n\u001b[0;32m--> 984\u001b[0m     \u001b[38;5;28;01mraise\u001b[39;00m e\n\u001b[1;32m    985\u001b[0m \u001b[38;5;28;01mfinally\u001b[39;00m:\n\u001b[1;32m    986\u001b[0m     \u001b[38;5;28;01mif\u001b[39;00m \u001b[38;5;28mself\u001b[39m\u001b[38;5;241m.\u001b[39mdevice \u001b[38;5;129;01min\u001b[39;00m DEVICES_STATIC:\n",
      "File \u001b[0;32m~/miniforge3/envs/pseudomonas-environment/lib/python3.9/site-packages/rpy2/ipython/rmagic.py:949\u001b[0m, in \u001b[0;36mRMagics.R\u001b[0;34m(self, line, cell, local_ns)\u001b[0m\n\u001b[1;32m    947\u001b[0m         return_output \u001b[38;5;241m=\u001b[39m \u001b[38;5;28;01mFalse\u001b[39;00m\n\u001b[1;32m    948\u001b[0m \u001b[38;5;28;01melse\u001b[39;00m:\n\u001b[0;32m--> 949\u001b[0m     text_result, result, visible \u001b[38;5;241m=\u001b[39m \u001b[38;5;28;43mself\u001b[39;49m\u001b[38;5;241;43m.\u001b[39;49m\u001b[43meval\u001b[49m\u001b[43m(\u001b[49m\u001b[43mcode\u001b[49m\u001b[43m)\u001b[49m\n\u001b[1;32m    950\u001b[0m     text_output \u001b[38;5;241m+\u001b[39m\u001b[38;5;241m=\u001b[39m text_result\n\u001b[1;32m    951\u001b[0m     \u001b[38;5;28;01mif\u001b[39;00m visible:\n",
      "File \u001b[0;32m~/miniforge3/envs/pseudomonas-environment/lib/python3.9/site-packages/rpy2/ipython/rmagic.py:413\u001b[0m, in \u001b[0;36mRMagics.eval\u001b[0;34m(self, code)\u001b[0m\n\u001b[1;32m    410\u001b[0m \u001b[38;5;28;01mexcept\u001b[39;00m (ri\u001b[38;5;241m.\u001b[39membedded\u001b[38;5;241m.\u001b[39mRRuntimeError, \u001b[38;5;167;01mValueError\u001b[39;00m) \u001b[38;5;28;01mas\u001b[39;00m exception:\n\u001b[1;32m    411\u001b[0m     \u001b[38;5;66;03m# Otherwise next return seems to have copy of error.\u001b[39;00m\n\u001b[1;32m    412\u001b[0m     warning_or_other_msg \u001b[38;5;241m=\u001b[39m \u001b[38;5;28mself\u001b[39m\u001b[38;5;241m.\u001b[39mflush()\n\u001b[0;32m--> 413\u001b[0m     \u001b[38;5;28;01mraise\u001b[39;00m RInterpreterError(code, \u001b[38;5;28mstr\u001b[39m(exception),\n\u001b[1;32m    414\u001b[0m                             warning_or_other_msg)\n\u001b[1;32m    415\u001b[0m \u001b[38;5;28;01mfinally\u001b[39;00m:\n\u001b[1;32m    416\u001b[0m     ro\u001b[38;5;241m.\u001b[39m_print_deferred_warnings()\n",
      "\u001b[0;31mRInterpreterError\u001b[0m: Failed to parse and evaluate line '#Se instala\\ninstall.packages(\"pheatmap\")\\n\\n#Se ejecuta la librerìa\\nlibrary(pheatmap)\\n\\n#Se importa matriz desde pyAni\\nmatrix_ani <- read.csv(\\'ANIb_output/ANIb_percentage_identity.tab\\', row.names=1, sep=\"\\\\t\")\\n\\n#Se traslada a pheatmap\\npheatmap(matrix_ani)\\n\\n#Se produce heatmap colorblind-friendly\\npheatmap(matrix_ani, color = hcl.colors(50, \"Blue-Red 3\"))\\n'.\nR error message: 'Error in library(pheatmap) : there is no package called ‘pheatmap’'\nR stdout:\nInstalling package into ‘/usr/local/lib/R/site-library’\n(as ‘lib’ is unspecified)\nWarning in install.packages(\"pheatmap\") :\n  'lib = \"/usr/local/lib/R/site-library\"' is not writable\nalso installing the dependencies ‘colorspace’, ‘cli’, ‘farver’, ‘glue’, ‘labeling’, ‘lifecycle’, ‘munsell’, ‘R6’, ‘rlang’, ‘viridisLite’, ‘RColorBrewer’, ‘scales’, ‘gtable’\n\ntrying URL 'https://cloud.r-project.org/src/contrib/colorspace_2.1-1.tar.gz'\nContent type 'application/x-gzip' length 2141289 bytes (2.0 MB)\n==================================================\ndownloaded 2.0 MB\n\ntrying URL 'https://cloud.r-project.org/src/contrib/cli_3.6.3.tar.gz'\nContent type 'application/x-gzip' length 568162 bytes (554 KB)\n==================================================\ndownloaded 554 KB\n\ntrying URL 'https://cloud.r-project.org/src/contrib/farver_2.1.2.tar.gz'\nContent type 'application/x-gzip' length 1275981 bytes (1.2 MB)\n==================================================\ndownloaded 1.2 MB\n\ntrying URL 'https://cloud.r-project.org/src/contrib/glue_1.7.0.tar.gz'\nContent type 'application/x-gzip' length 105420 bytes (102 KB)\n==================================================\ndownloaded 102 KB\n\ntrying URL 'https://cloud.r-project.org/src/contrib/labeling_0.4.3.tar.gz'\nContent type 'application/x-gzip' length 10167 bytes\n==================================================\ndownloaded 10167 bytes\n\ntrying URL 'https://cloud.r-project.org/src/contrib/lifecycle_1.0.4.tar.gz'\nContent type 'application/x-gzip' length 107656 bytes (105 KB)\n==================================================\ndownloaded 105 KB\n\ntrying URL 'https://cloud.r-project.org/src/contrib/munsell_0.5.1.tar.gz'\nContent type 'application/x-gzip' length 182310 bytes (178 KB)\n==================================================\ndownloaded 178 KB\n\ntrying URL 'https://cloud.r-project.org/src/contrib/R6_2.5.1.tar.gz'\nContent type 'application/x-gzip' length 63422 bytes (61 KB)\n==================================================\ndownloaded 61 KB\n\ntrying URL 'https://cloud.r-project.org/src/contrib/rlang_1.1.4.tar.gz'\nContent type 'application/x-gzip' length 767041 bytes (749 KB)\n==================================================\ndownloaded 749 KB\n\ntrying URL 'https://cloud.r-project.org/src/contrib/viridisLite_0.4.2.tar.gz'\nContent type 'application/x-gzip' length 1267121 bytes (1.2 MB)\n==================================================\ndownloaded 1.2 MB\n\ntrying URL 'https://cloud.r-project.org/src/contrib/RColorBrewer_1.1-3.tar.gz'\nContent type 'application/x-gzip' length 11638 bytes (11 KB)\n==================================================\ndownloaded 11 KB\n\ntrying URL 'https://cloud.r-project.org/src/contrib/scales_1.3.0.tar.gz'\nContent type 'application/x-gzip' length 302544 bytes (295 KB)\n==================================================\ndownloaded 295 KB\n\ntrying URL 'https://cloud.r-project.org/src/contrib/gtable_0.3.5.tar.gz'\nContent type 'application/x-gzip' length 130227 bytes (127 KB)\n==================================================\ndownloaded 127 KB\n\ntrying URL 'https://cloud.r-project.org/src/contrib/pheatmap_1.0.12.tar.gz'\nContent type 'application/x-gzip' length 15071 bytes (14 KB)\n==================================================\ndownloaded 14 KB\n\n\nThe downloaded source packages are in\n\t‘/tmp/Rtmpjq70nK/downloaded_packages’\nError in library(pheatmap) : there is no package called ‘pheatmap’\nIn addition: Warning messages:\n1: In install.packages(\"pheatmap\") :\n  installation of package ‘RColorBrewer’ had non-zero exit status\n2: In install.packages(\"pheatmap\") :\n  installation of package ‘scales’ had non-zero exit status\n3: In install.packages(\"pheatmap\") :\n  installation of package ‘pheatmap’ had non-zero exit status"
     ]
    }
   ],
   "source": [
    "%%R\n",
    "#Se instala\n",
    "install.packages(\"pheatmap\")\n",
    "\n",
    "#Se ejecuta la librerìa\n",
    "library(pheatmap)\n",
    "\n",
    "#Se importa matriz desde pyAni\n",
    "matrix_ani <- read.csv('ANIb_output/ANIb_percentage_identity.tab', row.names=1, sep=\"\\t\")\n",
    "\n",
    "#Se traslada a pheatmap\n",
    "pheatmap(matrix_ani)\n",
    "\n",
    "#Se produce heatmap colorblind-friendly\n",
    "pheatmap(matrix_ani, color = hcl.colors(50, \"Blue-Red 3\"))"
   ]
  },
  {
   "cell_type": "code",
   "execution_count": null,
   "id": "eeeb0f48-0951-4913-89e4-fbdfa986791f",
   "metadata": {},
   "outputs": [],
   "source": []
  }
 ],
 "metadata": {
  "kernelspec": {
   "display_name": "pseudomonas_notebook",
   "language": "python",
   "name": "pseudomonas_notebook"
  },
  "language_info": {
   "codemirror_mode": {
    "name": "ipython",
    "version": 3
   },
   "file_extension": ".py",
   "mimetype": "text/x-python",
   "name": "python",
   "nbconvert_exporter": "python",
   "pygments_lexer": "ipython3",
   "version": "3.9.19"
  }
 },
 "nbformat": 4,
 "nbformat_minor": 5
}
